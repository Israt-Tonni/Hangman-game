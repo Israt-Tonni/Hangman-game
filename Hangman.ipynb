{
  "nbformat": 4,
  "nbformat_minor": 0,
  "metadata": {
    "colab": {
      "provenance": []
    },
    "kernelspec": {
      "name": "python3",
      "display_name": "Python 3"
    },
    "language_info": {
      "name": "python"
    }
  },
  "cells": [
    {
      "cell_type": "code",
      "execution_count": 1,
      "metadata": {
        "colab": {
          "base_uri": "https://localhost:8080/"
        },
        "id": "MH-QKkpa3-JQ",
        "outputId": "5211f7e0-a72b-4d75-8b10-6fa8640fb579"
      },
      "outputs": [
        {
          "output_type": "stream",
          "name": "stdout",
          "text": [
            "_ _ _ _ _ _ _ _ _\n",
            "Guess a letter: a\n",
            "_ _ _ _ a _ _ _ _\n",
            "Guess a letter: b\n",
            "Sorry, b is not in the word.\n",
            "_ _ _ _ a _ _ _ _\n",
            "Guess a letter: c\n",
            "Sorry, c is not in the word.\n",
            "_ _ _ _ a _ _ _ _\n",
            "Guess a letter: apple\n",
            "_ _ _ _ a _ _ _ _\n",
            "Guess a letter: p\n",
            "p _ _ _ a p p _ _\n",
            "Guess a letter: i\n",
            "p i _ _ a p p _ _\n",
            "Guess a letter: n\n",
            "p i n _ a p p _ _\n",
            "Guess a letter: e\n",
            "p i n e a p p _ e\n",
            "Guess a letter: l\n",
            "Congratulations, you win!\n"
          ]
        }
      ],
      "source": [
        "import random\n",
        "\n",
        "# List of words for the game\n",
        "words = [\"apple\", \"banana\", \"orange\", \"grape\", \"watermelon\", \"pineapple\"]\n",
        "\n",
        "# Select a random word from the list\n",
        "word = random.choice(words)\n",
        "\n",
        "# Create a list of underscores the same length as the word\n",
        "display = [\"_\"] * len(word)\n",
        "\n",
        "# Keep track of guessed letters\n",
        "guesses = []\n",
        "\n",
        "# Keep track of the number of incorrect guesses\n",
        "incorrect_guesses = 0\n",
        "\n",
        "# Main game loop\n",
        "while True:\n",
        "    # Display the current state of the word\n",
        "    print(\" \".join(display))\n",
        "\n",
        "    # Prompt the user to enter a letter\n",
        "    guess = input(\"Guess a letter: \")\n",
        "\n",
        "    # Check if the letter has already been guessed\n",
        "    if guess in guesses:\n",
        "        print(\"You already guessed that letter!\")\n",
        "        continue\n",
        "\n",
        "    # Add the letter to the list of guesses\n",
        "    guesses.append(guess)\n",
        "\n",
        "    # Check if the letter is in the word\n",
        "    if guess in word:\n",
        "        # Replace underscores with the letter\n",
        "        for i in range(len(word)):\n",
        "            if word[i] == guess:\n",
        "                display[i] = guess\n",
        "    else:\n",
        "        # Increment the number of incorrect guesses\n",
        "        incorrect_guesses += 1\n",
        "        print(f\"Sorry, {guess} is not in the word.\")\n",
        "        \n",
        "    # Check if the game is over\n",
        "    if \"_\" not in display:\n",
        "        # The player has won\n",
        "        print(\"Congratulations, you win!\")\n",
        "        break\n",
        "    elif incorrect_guesses == 6:\n",
        "        # The player has lost\n",
        "        print(\"Sorry, you lose.\")\n",
        "        break\n"
      ]
    }
  ]
}